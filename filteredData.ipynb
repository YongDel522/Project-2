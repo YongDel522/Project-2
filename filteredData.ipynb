{
 "cells": [
  {
   "cell_type": "code",
   "execution_count": 1,
   "id": "catholic-wages",
   "metadata": {},
   "outputs": [],
   "source": [
    "import pandas as pd\n",
    "import json\n",
    "import matplotlib.pyplot as plt\n",
    "import requests\n"
   ]
  },
  {
   "cell_type": "markdown",
   "id": "comfortable-punch",
   "metadata": {},
   "source": [
    "# Traffic Incident"
   ]
  },
  {
   "cell_type": "code",
   "execution_count": 2,
   "id": "verified-government",
   "metadata": {},
   "outputs": [
    {
     "output_type": "execute_result",
     "data": {
      "text/plain": [
       "0     {'id': '9894', 'type': 'fatal_accident', 'caus...\n",
       "1     {'id': '9703', 'type': 'fatal_accident', 'caus...\n",
       "2     {'id': '9529', 'type': 'fatal_accident', 'caus...\n",
       "3     {'id': '9829', 'type': 'fatal_accident', 'caus...\n",
       "4     {'id': '9885', 'type': 'fatal_accident', 'caus...\n",
       "                            ...                        \n",
       "95    {'id': '9844', 'type': 'fatal_accident', 'caus...\n",
       "96    {'id': '9938', 'type': 'fatal_accident', 'caus...\n",
       "97    {'id': '9542', 'type': 'fatal_accident', 'caus...\n",
       "98    {'id': '9746', 'type': 'fatal_accident', 'caus...\n",
       "99    {'id': '9525', 'type': 'fatal_accident', 'caus...\n",
       "Name: data, Length: 100, dtype: object"
      ]
     },
     "metadata": {},
     "execution_count": 2
    }
   ],
   "source": [
    "url = \"https://municipal.systems/v1/places/ga/dataTypes/traffic-incident/data?key=dba4aa07-6314-42fd-927c-2f52106600fc\"\n",
    "\n",
    "response = requests.get(url).json()\n",
    "data = response[\"results\"]\n",
    "\n",
    "traffic_data = pd.DataFrame(data)\n",
    "\n",
    "filtraffic_data= traffic_data['data']\n",
    "filtraffic_data\n"
   ]
  },
  {
   "cell_type": "code",
   "execution_count": 3,
   "id": "engaging-integral",
   "metadata": {},
   "outputs": [],
   "source": [
    "coord = []\n",
    "inc_id = []\n",
    "weather = []\n",
    "inc_type = []\n",
    "\n",
    "for data in filtraffic_data:\n",
    "    inc_loc = data['location']['coordinates']\n",
    "    coord.append(inc_loc)\n",
    "    \n",
    "    id = data['id']\n",
    "    inc_id.append(id)\n",
    "    \n",
    "    inc_weather = data['weather']\n",
    "    weather.append(inc_weather)\n",
    "    \n",
    "    type = data['type']\n",
    "    inc_type.append(type)\n"
   ]
  },
  {
   "cell_type": "code",
   "execution_count": 4,
   "id": "fifth-terminal",
   "metadata": {},
   "outputs": [
    {
     "data": {
      "text/html": [
       "<div>\n",
       "<style scoped>\n",
       "    .dataframe tbody tr th:only-of-type {\n",
       "        vertical-align: middle;\n",
       "    }\n",
       "\n",
       "    .dataframe tbody tr th {\n",
       "        vertical-align: top;\n",
       "    }\n",
       "\n",
       "    .dataframe thead th {\n",
       "        text-align: right;\n",
       "    }\n",
       "</style>\n",
       "<table border=\"1\" class=\"dataframe\">\n",
       "  <thead>\n",
       "    <tr style=\"text-align: right;\">\n",
       "      <th></th>\n",
       "      <th>id</th>\n",
       "      <th>type</th>\n",
       "      <th>location</th>\n",
       "      <th>weather</th>\n",
       "    </tr>\n",
       "  </thead>\n",
       "  <tbody>\n",
       "    <tr>\n",
       "      <th>0</th>\n",
       "      <td>9894</td>\n",
       "      <td>fatal_accident</td>\n",
       "      <td>[-83.39359999983886, 32.57860000026997]</td>\n",
       "      <td>Clear</td>\n",
       "    </tr>\n",
       "    <tr>\n",
       "      <th>1</th>\n",
       "      <td>9703</td>\n",
       "      <td>fatal_accident</td>\n",
       "      <td>[-85.24540000027918, 34.17309999994976]</td>\n",
       "      <td>Clear</td>\n",
       "    </tr>\n",
       "    <tr>\n",
       "      <th>2</th>\n",
       "      <td>9529</td>\n",
       "      <td>fatal_accident</td>\n",
       "      <td>[-84.29679999997823, 33.90934999963979]</td>\n",
       "      <td>Clear</td>\n",
       "    </tr>\n",
       "    <tr>\n",
       "      <th>3</th>\n",
       "      <td>9829</td>\n",
       "      <td>fatal_accident</td>\n",
       "      <td>[-83.44029999965876, 34.18304999995438]</td>\n",
       "      <td>Clear</td>\n",
       "    </tr>\n",
       "    <tr>\n",
       "      <th>4</th>\n",
       "      <td>9885</td>\n",
       "      <td>fatal_accident</td>\n",
       "      <td>[-85.07530000013486, 34.347766670196805]</td>\n",
       "      <td>Clear</td>\n",
       "    </tr>\n",
       "    <tr>\n",
       "      <th>...</th>\n",
       "      <td>...</td>\n",
       "      <td>...</td>\n",
       "      <td>...</td>\n",
       "      <td>...</td>\n",
       "    </tr>\n",
       "    <tr>\n",
       "      <th>95</th>\n",
       "      <td>9844</td>\n",
       "      <td>fatal_accident</td>\n",
       "      <td>[-83.51960000037828, 32.66326944006433]</td>\n",
       "      <td>Clear</td>\n",
       "    </tr>\n",
       "    <tr>\n",
       "      <th>96</th>\n",
       "      <td>9938</td>\n",
       "      <td>fatal_accident</td>\n",
       "      <td>[-83.00689999974685, 33.27915833012422]</td>\n",
       "      <td>Clear</td>\n",
       "    </tr>\n",
       "    <tr>\n",
       "      <th>97</th>\n",
       "      <td>9542</td>\n",
       "      <td>fatal_accident</td>\n",
       "      <td>[-83.42829999956463, 33.80758888965167]</td>\n",
       "      <td>Rain</td>\n",
       "    </tr>\n",
       "    <tr>\n",
       "      <th>98</th>\n",
       "      <td>9746</td>\n",
       "      <td>fatal_accident</td>\n",
       "      <td>[-84.06539999970481, 34.034313889680796]</td>\n",
       "      <td>Clear</td>\n",
       "    </tr>\n",
       "    <tr>\n",
       "      <th>99</th>\n",
       "      <td>9525</td>\n",
       "      <td>fatal_accident</td>\n",
       "      <td>[-83.64419999990358, 32.70843610964996]</td>\n",
       "      <td>Clear</td>\n",
       "    </tr>\n",
       "  </tbody>\n",
       "</table>\n",
       "<p>100 rows × 4 columns</p>\n",
       "</div>"
      ],
      "text/plain": [
       "      id            type                                  location weather\n",
       "0   9894  fatal_accident   [-83.39359999983886, 32.57860000026997]   Clear\n",
       "1   9703  fatal_accident   [-85.24540000027918, 34.17309999994976]   Clear\n",
       "2   9529  fatal_accident   [-84.29679999997823, 33.90934999963979]   Clear\n",
       "3   9829  fatal_accident   [-83.44029999965876, 34.18304999995438]   Clear\n",
       "4   9885  fatal_accident  [-85.07530000013486, 34.347766670196805]   Clear\n",
       "..   ...             ...                                       ...     ...\n",
       "95  9844  fatal_accident   [-83.51960000037828, 32.66326944006433]   Clear\n",
       "96  9938  fatal_accident   [-83.00689999974685, 33.27915833012422]   Clear\n",
       "97  9542  fatal_accident   [-83.42829999956463, 33.80758888965167]    Rain\n",
       "98  9746  fatal_accident  [-84.06539999970481, 34.034313889680796]   Clear\n",
       "99  9525  fatal_accident   [-83.64419999990358, 32.70843610964996]   Clear\n",
       "\n",
       "[100 rows x 4 columns]"
      ]
     },
     "execution_count": 4,
     "metadata": {},
     "output_type": "execute_result"
    }
   ],
   "source": [
    "filTrafData_df = pd.DataFrame({\n",
    "    'id': inc_id,\n",
    "    'type': inc_type,\n",
    "    'location': coord,\n",
    "    'weather': weather\n",
    "})\n",
    "\n",
    "filTrafData_df\n"
   ]
  },
  {
   "cell_type": "markdown",
   "id": "vocational-alexander",
   "metadata": {},
   "source": [
    "# Traffic Jam"
   ]
  },
  {
   "cell_type": "code",
   "execution_count": 4,
   "id": "stock-exploration",
   "metadata": {},
   "outputs": [
    {
     "output_type": "execute_result",
     "data": {
      "text/plain": [
       "                                      id  \\\n",
       "0   22e7dea4-bc10-47d0-8689-9e08f93cfd42   \n",
       "1   13576c34-4f72-43f1-85e8-7cf050980fa6   \n",
       "2   9d0565f0-8a56-4cf8-8f4e-690acea11606   \n",
       "3   63967907-3987-47bf-84dd-bf67a740bc3f   \n",
       "4   553224cf-a6a0-4e74-8563-bf4abc6f34a3   \n",
       "..                                   ...   \n",
       "95  db4972be-e58d-46f1-8eba-3fee1a76798e   \n",
       "96  735e165b-0b7e-403a-8a69-e462ca83d4bb   \n",
       "97  1e2f4a48-5fa6-4b85-8fa0-60eb338e4df4   \n",
       "98  8b25bb0d-dbc9-42d0-8741-a3769e8c5893   \n",
       "99  4c555ac2-83fa-4fd8-8635-70b666ef5125   \n",
       "\n",
       "                                sourceId                 createdAt  \\\n",
       "0   bf3b588b-ddfd-4265-8ce9-5736c64554df  2021-02-22T21:46:23.355Z   \n",
       "1   bf3b588b-ddfd-4265-8ce9-5736c64554df  2021-02-22T21:46:23.400Z   \n",
       "2   bf3b588b-ddfd-4265-8ce9-5736c64554df  2021-02-22T21:43:30.153Z   \n",
       "3   bf3b588b-ddfd-4265-8ce9-5736c64554df  2021-02-22T21:46:23.479Z   \n",
       "4   bf3b588b-ddfd-4265-8ce9-5736c64554df  2021-02-22T22:01:56.739Z   \n",
       "..                                   ...                       ...   \n",
       "95  bf3b588b-ddfd-4265-8ce9-5736c64554df  2021-02-22T21:43:19.215Z   \n",
       "96  bf3b588b-ddfd-4265-8ce9-5736c64554df  2021-02-22T21:43:19.355Z   \n",
       "97  bf3b588b-ddfd-4265-8ce9-5736c64554df  2021-02-22T21:43:19.090Z   \n",
       "98  bf3b588b-ddfd-4265-8ce9-5736c64554df  2021-02-22T21:43:20.842Z   \n",
       "99  bf3b588b-ddfd-4265-8ce9-5736c64554df  2021-02-22T21:43:19.781Z   \n",
       "\n",
       "                   updatedAt  \\\n",
       "0   2021-02-22T21:50:19.520Z   \n",
       "1   2021-02-22T21:46:23.400Z   \n",
       "2   2021-02-22T21:46:23.454Z   \n",
       "3   2021-02-22T21:46:23.479Z   \n",
       "4   2021-02-22T22:05:04.591Z   \n",
       "..                       ...   \n",
       "95  2021-02-22T21:43:19.215Z   \n",
       "96  2021-02-22T21:43:19.355Z   \n",
       "97  2021-02-22T21:43:19.090Z   \n",
       "98  2021-02-22T21:43:20.842Z   \n",
       "99  2021-02-22T21:46:14.903Z   \n",
       "\n",
       "                                             geometry  \\\n",
       "0   {'type': 'LineString', 'coordinates': [[-84.65...   \n",
       "1   {'type': 'LineString', 'coordinates': [[-84.35...   \n",
       "2   {'type': 'LineString', 'coordinates': [[-84.19...   \n",
       "3   {'type': 'LineString', 'coordinates': [[-84.50...   \n",
       "4   {'type': 'LineString', 'coordinates': [[-82.11...   \n",
       "..                                                ...   \n",
       "95  {'type': 'LineString', 'coordinates': [[-84.25...   \n",
       "96  {'type': 'LineString', 'coordinates': [[-84.13...   \n",
       "97  {'type': 'LineString', 'coordinates': [[-84.38...   \n",
       "98  {'type': 'LineString', 'coordinates': [[-81.33...   \n",
       "99  {'type': 'LineString', 'coordinates': [[-84.42...   \n",
       "\n",
       "                                                 data  \n",
       "0   {'id': '766797016', 'path': {'type': 'LineStri...  \n",
       "1   {'id': '766794436', 'path': {'type': 'LineStri...  \n",
       "2   {'id': '775091405', 'path': {'type': 'LineStri...  \n",
       "3   {'id': '766791366', 'path': {'type': 'LineStri...  \n",
       "4   {'id': '748930898', 'path': {'type': 'LineStri...  \n",
       "..                                                ...  \n",
       "95  {'id': '835485363', 'path': {'type': 'LineStri...  \n",
       "96  {'id': '835354893', 'path': {'type': 'LineStri...  \n",
       "97  {'id': '835475733', 'path': {'type': 'LineStri...  \n",
       "98  {'id': '834900933', 'path': {'type': 'LineStri...  \n",
       "99  {'id': '835151673', 'path': {'type': 'LineStri...  \n",
       "\n",
       "[100 rows x 6 columns]"
      ],
      "text/html": "<div>\n<style scoped>\n    .dataframe tbody tr th:only-of-type {\n        vertical-align: middle;\n    }\n\n    .dataframe tbody tr th {\n        vertical-align: top;\n    }\n\n    .dataframe thead th {\n        text-align: right;\n    }\n</style>\n<table border=\"1\" class=\"dataframe\">\n  <thead>\n    <tr style=\"text-align: right;\">\n      <th></th>\n      <th>id</th>\n      <th>sourceId</th>\n      <th>createdAt</th>\n      <th>updatedAt</th>\n      <th>geometry</th>\n      <th>data</th>\n    </tr>\n  </thead>\n  <tbody>\n    <tr>\n      <th>0</th>\n      <td>22e7dea4-bc10-47d0-8689-9e08f93cfd42</td>\n      <td>bf3b588b-ddfd-4265-8ce9-5736c64554df</td>\n      <td>2021-02-22T21:46:23.355Z</td>\n      <td>2021-02-22T21:50:19.520Z</td>\n      <td>{'type': 'LineString', 'coordinates': [[-84.65...</td>\n      <td>{'id': '766797016', 'path': {'type': 'LineStri...</td>\n    </tr>\n    <tr>\n      <th>1</th>\n      <td>13576c34-4f72-43f1-85e8-7cf050980fa6</td>\n      <td>bf3b588b-ddfd-4265-8ce9-5736c64554df</td>\n      <td>2021-02-22T21:46:23.400Z</td>\n      <td>2021-02-22T21:46:23.400Z</td>\n      <td>{'type': 'LineString', 'coordinates': [[-84.35...</td>\n      <td>{'id': '766794436', 'path': {'type': 'LineStri...</td>\n    </tr>\n    <tr>\n      <th>2</th>\n      <td>9d0565f0-8a56-4cf8-8f4e-690acea11606</td>\n      <td>bf3b588b-ddfd-4265-8ce9-5736c64554df</td>\n      <td>2021-02-22T21:43:30.153Z</td>\n      <td>2021-02-22T21:46:23.454Z</td>\n      <td>{'type': 'LineString', 'coordinates': [[-84.19...</td>\n      <td>{'id': '775091405', 'path': {'type': 'LineStri...</td>\n    </tr>\n    <tr>\n      <th>3</th>\n      <td>63967907-3987-47bf-84dd-bf67a740bc3f</td>\n      <td>bf3b588b-ddfd-4265-8ce9-5736c64554df</td>\n      <td>2021-02-22T21:46:23.479Z</td>\n      <td>2021-02-22T21:46:23.479Z</td>\n      <td>{'type': 'LineString', 'coordinates': [[-84.50...</td>\n      <td>{'id': '766791366', 'path': {'type': 'LineStri...</td>\n    </tr>\n    <tr>\n      <th>4</th>\n      <td>553224cf-a6a0-4e74-8563-bf4abc6f34a3</td>\n      <td>bf3b588b-ddfd-4265-8ce9-5736c64554df</td>\n      <td>2021-02-22T22:01:56.739Z</td>\n      <td>2021-02-22T22:05:04.591Z</td>\n      <td>{'type': 'LineString', 'coordinates': [[-82.11...</td>\n      <td>{'id': '748930898', 'path': {'type': 'LineStri...</td>\n    </tr>\n    <tr>\n      <th>...</th>\n      <td>...</td>\n      <td>...</td>\n      <td>...</td>\n      <td>...</td>\n      <td>...</td>\n      <td>...</td>\n    </tr>\n    <tr>\n      <th>95</th>\n      <td>db4972be-e58d-46f1-8eba-3fee1a76798e</td>\n      <td>bf3b588b-ddfd-4265-8ce9-5736c64554df</td>\n      <td>2021-02-22T21:43:19.215Z</td>\n      <td>2021-02-22T21:43:19.215Z</td>\n      <td>{'type': 'LineString', 'coordinates': [[-84.25...</td>\n      <td>{'id': '835485363', 'path': {'type': 'LineStri...</td>\n    </tr>\n    <tr>\n      <th>96</th>\n      <td>735e165b-0b7e-403a-8a69-e462ca83d4bb</td>\n      <td>bf3b588b-ddfd-4265-8ce9-5736c64554df</td>\n      <td>2021-02-22T21:43:19.355Z</td>\n      <td>2021-02-22T21:43:19.355Z</td>\n      <td>{'type': 'LineString', 'coordinates': [[-84.13...</td>\n      <td>{'id': '835354893', 'path': {'type': 'LineStri...</td>\n    </tr>\n    <tr>\n      <th>97</th>\n      <td>1e2f4a48-5fa6-4b85-8fa0-60eb338e4df4</td>\n      <td>bf3b588b-ddfd-4265-8ce9-5736c64554df</td>\n      <td>2021-02-22T21:43:19.090Z</td>\n      <td>2021-02-22T21:43:19.090Z</td>\n      <td>{'type': 'LineString', 'coordinates': [[-84.38...</td>\n      <td>{'id': '835475733', 'path': {'type': 'LineStri...</td>\n    </tr>\n    <tr>\n      <th>98</th>\n      <td>8b25bb0d-dbc9-42d0-8741-a3769e8c5893</td>\n      <td>bf3b588b-ddfd-4265-8ce9-5736c64554df</td>\n      <td>2021-02-22T21:43:20.842Z</td>\n      <td>2021-02-22T21:43:20.842Z</td>\n      <td>{'type': 'LineString', 'coordinates': [[-81.33...</td>\n      <td>{'id': '834900933', 'path': {'type': 'LineStri...</td>\n    </tr>\n    <tr>\n      <th>99</th>\n      <td>4c555ac2-83fa-4fd8-8635-70b666ef5125</td>\n      <td>bf3b588b-ddfd-4265-8ce9-5736c64554df</td>\n      <td>2021-02-22T21:43:19.781Z</td>\n      <td>2021-02-22T21:46:14.903Z</td>\n      <td>{'type': 'LineString', 'coordinates': [[-84.42...</td>\n      <td>{'id': '835151673', 'path': {'type': 'LineStri...</td>\n    </tr>\n  </tbody>\n</table>\n<p>100 rows × 6 columns</p>\n</div>"
     },
     "metadata": {},
     "execution_count": 4
    }
   ],
   "source": [
    "url = \"https://municipal.systems/v1/places/ga/dataTypes/traffic-jam/data?key=dba4aa07-6314-42fd-927c-2f52106600fc\"\n",
    "\n",
    "response = requests.get(url).json()\n",
    "data = response['results']\n",
    "\n",
    "trafficJam_df = pd.DataFrame(data)\n",
    "\n",
    "trafficJam_df\n"
   ]
  },
  {
   "cell_type": "code",
   "execution_count": 33,
   "id": "complimentary-performance",
   "metadata": {},
   "outputs": [],
   "source": [
    "filTrafficJam_data = trafficJam_df['data']\n",
    "inc_id = [d.get('id') for d in filTrafficJam_data]\n",
    "delay = [d.get('delay') for d in filTrafficJam_data]\n",
    "speed = [d.get('speed') for d in filTrafficJam_data]\n",
    "\n",
    "path = [d.get('path') for d in filTrafficJam_data]\n",
    "coords = [d.get('coordinates') for d in path]"
   ]
  },
  {
   "cell_type": "code",
   "execution_count": 34,
   "id": "tight-antique",
   "metadata": {},
   "outputs": [
    {
     "output_type": "execute_result",
     "data": {
      "text/plain": [
       "           id  delay                                  location  speed\n",
       "0   766797016    126   [-83.39359999983886, 32.57860000026997]   4.48\n",
       "1   766794436     98   [-85.24540000027918, 34.17309999994976]   4.70\n",
       "2   775091405    130   [-84.29679999997823, 33.90934999963979]  14.39\n",
       "3   766791366     76   [-83.44029999965876, 34.18304999995438]  11.33\n",
       "4   748930898    123  [-85.07530000013486, 34.347766670196805]   9.45\n",
       "..        ...    ...                                       ...    ...\n",
       "95  835485363    146   [-83.51960000037828, 32.66326944006433]   5.22\n",
       "96  835354893    128   [-83.00689999974685, 33.27915833012422]  11.38\n",
       "97  835475733    100   [-83.42829999956463, 33.80758888965167]  18.75\n",
       "98  834900933    109  [-84.06539999970481, 34.034313889680796]   4.86\n",
       "99  835151673    108   [-83.64419999990358, 32.70843610964996]  13.82\n",
       "\n",
       "[100 rows x 4 columns]"
      ],
      "text/html": "<div>\n<style scoped>\n    .dataframe tbody tr th:only-of-type {\n        vertical-align: middle;\n    }\n\n    .dataframe tbody tr th {\n        vertical-align: top;\n    }\n\n    .dataframe thead th {\n        text-align: right;\n    }\n</style>\n<table border=\"1\" class=\"dataframe\">\n  <thead>\n    <tr style=\"text-align: right;\">\n      <th></th>\n      <th>id</th>\n      <th>delay</th>\n      <th>location</th>\n      <th>speed</th>\n    </tr>\n  </thead>\n  <tbody>\n    <tr>\n      <th>0</th>\n      <td>766797016</td>\n      <td>126</td>\n      <td>[-83.39359999983886, 32.57860000026997]</td>\n      <td>4.48</td>\n    </tr>\n    <tr>\n      <th>1</th>\n      <td>766794436</td>\n      <td>98</td>\n      <td>[-85.24540000027918, 34.17309999994976]</td>\n      <td>4.70</td>\n    </tr>\n    <tr>\n      <th>2</th>\n      <td>775091405</td>\n      <td>130</td>\n      <td>[-84.29679999997823, 33.90934999963979]</td>\n      <td>14.39</td>\n    </tr>\n    <tr>\n      <th>3</th>\n      <td>766791366</td>\n      <td>76</td>\n      <td>[-83.44029999965876, 34.18304999995438]</td>\n      <td>11.33</td>\n    </tr>\n    <tr>\n      <th>4</th>\n      <td>748930898</td>\n      <td>123</td>\n      <td>[-85.07530000013486, 34.347766670196805]</td>\n      <td>9.45</td>\n    </tr>\n    <tr>\n      <th>...</th>\n      <td>...</td>\n      <td>...</td>\n      <td>...</td>\n      <td>...</td>\n    </tr>\n    <tr>\n      <th>95</th>\n      <td>835485363</td>\n      <td>146</td>\n      <td>[-83.51960000037828, 32.66326944006433]</td>\n      <td>5.22</td>\n    </tr>\n    <tr>\n      <th>96</th>\n      <td>835354893</td>\n      <td>128</td>\n      <td>[-83.00689999974685, 33.27915833012422]</td>\n      <td>11.38</td>\n    </tr>\n    <tr>\n      <th>97</th>\n      <td>835475733</td>\n      <td>100</td>\n      <td>[-83.42829999956463, 33.80758888965167]</td>\n      <td>18.75</td>\n    </tr>\n    <tr>\n      <th>98</th>\n      <td>834900933</td>\n      <td>109</td>\n      <td>[-84.06539999970481, 34.034313889680796]</td>\n      <td>4.86</td>\n    </tr>\n    <tr>\n      <th>99</th>\n      <td>835151673</td>\n      <td>108</td>\n      <td>[-83.64419999990358, 32.70843610964996]</td>\n      <td>13.82</td>\n    </tr>\n  </tbody>\n</table>\n<p>100 rows × 4 columns</p>\n</div>"
     },
     "metadata": {},
     "execution_count": 34
    }
   ],
   "source": [
    "filTrafJamData_df = pd.DataFrame({\n",
    "    'id': inc_id,\n",
    "    'delay': delay,\n",
    "    'location': coord,\n",
    "    'speed': speed\n",
    "})\n",
    "\n",
    "filTrafJamData_df"
   ]
  },
  {
   "cell_type": "code",
   "execution_count": null,
   "id": "informational-brown",
   "metadata": {},
   "outputs": [],
   "source": []
  }
 ],
 "metadata": {
  "kernelspec": {
   "name": "python385jvsc74a57bd02b1bc49a7eb93f20e4b0b632e7160c1ec20e835b4c520f808fc184f56b607b6c",
   "display_name": "Python 3.8.5 64-bit (conda)"
  },
  "language_info": {
   "codemirror_mode": {
    "name": "ipython",
    "version": 3
   },
   "file_extension": ".py",
   "mimetype": "text/x-python",
   "name": "python",
   "nbconvert_exporter": "python",
   "pygments_lexer": "ipython3",
   "version": "3.8.5"
  }
 },
 "nbformat": 4,
 "nbformat_minor": 5
}